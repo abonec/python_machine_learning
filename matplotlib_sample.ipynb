{
 "cells": [
  {
   "cell_type": "markdown",
   "metadata": {},
   "source": [
    "# Simple plot"
   ]
  },
  {
   "cell_type": "code",
   "execution_count": null,
   "metadata": {
    "collapsed": false
   },
   "outputs": [],
   "source": [
    "%matplotlib inline\n",
    "\n",
    "import matplotlib.pyplot as plt\n",
    "import numpy as np\n",
    "\n",
    "values = np.arange(0., 5., 0.2)\n",
    "plt.plot(values, values, 'r--')\n",
    "plt.plot(values, values**2, 'bs')\n",
    "plt.plot(values, values**3, 'g^')\n",
    "plt.ylabel('some numbers')\n",
    "\n",
    "plt.show()"
   ]
  },
  {
   "cell_type": "code",
   "execution_count": null,
   "metadata": {
    "collapsed": false
   },
   "outputs": [],
   "source": [
    "%matplotlib inline\n",
    "\n",
    "import matplotlib.pyplot as plt\n",
    "import numpy as np\n",
    "\n",
    "def f(x):\n",
    "    return np.exp(-x) * np.cos(2 * np.pi * x)\n",
    "\n",
    "values = np.arange(0., 5., 0.02)\n",
    "\n",
    "plt.plot(values, f(values))\n",
    "\n",
    "plt.show()"
   ]
  },
  {
   "cell_type": "code",
   "execution_count": null,
   "metadata": {
    "collapsed": false
   },
   "outputs": [],
   "source": [
    "%matplotlib inline\n",
    "\n",
    "import matplotlib.pyplot as plt\n",
    "import numpy as np\n",
    "\n",
    "def f(x):\n",
    "    return np.exp(-x) * np.cos(2 * np.pi * x)\n",
    "\n",
    "values = np.arange(0., 5., 0.02)\n",
    "values2 = np.arange(0., 7., 0.5)\n",
    "\n",
    "plt.figure(1)\n",
    "\n",
    "plt.subplot(211)\n",
    "\n",
    "plt.plot(values, f(values), 'b-', values2, f(values2), 'ro')\n",
    "\n",
    "plt.show()"
   ]
  },
  {
   "cell_type": "markdown",
   "metadata": {},
   "source": [
    "# Figures"
   ]
  },
  {
   "cell_type": "code",
   "execution_count": null,
   "metadata": {
    "collapsed": false
   },
   "outputs": [],
   "source": [
    "%matplotlib inline\n",
    "\n",
    "import matplotlib.pyplot as plt\n",
    "import numpy as np\n",
    "\n",
    "def f(x):\n",
    "    return np.exp(-x) * np.cos(2 * np.pi * x)\n",
    "\n",
    "values = np.arange(0., 5., 0.02)\n",
    "values2 = np.arange(0., 5., 0.1)\n",
    "\n",
    "plt.figure(1)\n",
    "\n",
    "plt.plot(values, f(values), 'b-')\n",
    "\n",
    "plt.figure(2)\n",
    "plt.plot(values2, f(values2), 'ro')\n",
    "\n",
    "plt.show()"
   ]
  },
  {
   "cell_type": "markdown",
   "metadata": {
    "collapsed": true
   },
   "source": [
    "# Histogram"
   ]
  },
  {
   "cell_type": "code",
   "execution_count": null,
   "metadata": {
    "collapsed": false
   },
   "outputs": [],
   "source": [
    "%matplotlib inline\n",
    "\n",
    "import matplotlib.pyplot as plt\n",
    "import numpy as np\n",
    "\n",
    "mu = 100\n",
    "\n",
    "values = mu + 20 * np.random.randn(10000)\n",
    "\n",
    "plt.hist(values, bins=50, normed=1, facecolor='g', alpha=0.7)\n",
    "\n",
    "plt.text(40, 0.02, r'$\\mu=100$')\n",
    "plt.title('Histogram')\n",
    "plt.grid(True)\n",
    "plt.show()"
   ]
  }
 ],
 "metadata": {
  "kernelspec": {
   "display_name": "Python 3",
   "language": "python",
   "name": "python3"
  },
  "language_info": {
   "codemirror_mode": {
    "name": "ipython",
    "version": 3
   },
   "file_extension": ".py",
   "mimetype": "text/x-python",
   "name": "python",
   "nbconvert_exporter": "python",
   "pygments_lexer": "ipython3",
   "version": "3.5.1"
  }
 },
 "nbformat": 4,
 "nbformat_minor": 0
}
